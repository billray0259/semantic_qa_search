{
 "cells": [
  {
   "cell_type": "code",
   "execution_count": 8,
   "metadata": {},
   "outputs": [],
   "source": [
    "import os\n",
    "if os.getcwd().endswith('nb'):\n",
    "    os.chdir('..')\n",
    "\n",
    "import openai\n",
    "import numpy as np\n",
    "import os\n",
    "import json\n",
    "\n",
    "OPENAI_KEY_PATH = \"openai_key.txt\"\n",
    "\n",
    "DATA_DIR = \"data\"\n",
    "NAME = \"cs685\"\n",
    "\n",
    "with open(OPENAI_KEY_PATH, \"r\") as f:\n",
    "    openai.api_key = f.read().strip()\n",
    "\n",
    "def get_embeddings(texts, type, model=\"ada\"):\n",
    "    results = openai.Embedding.create(input=texts, engine=f\"text-search-{model}-{type}-001\")['data']\n",
    "    return np.array(list(map(lambda x: x['embedding'], results)))"
   ]
  },
  {
   "cell_type": "code",
   "execution_count": 9,
   "metadata": {},
   "outputs": [],
   "source": [
    "save_dir = os.path.join(DATA_DIR, NAME)\n",
    "\n",
    "# load save_dir/texts.json into dictionary\n",
    "with open(os.path.join(save_dir, \"texts.json\"), \"r\") as f:\n",
    "    texts = json.load(f)\n",
    "\n",
    "documents = []\n",
    "links = []\n",
    "img_files = []\n",
    "for key in texts:\n",
    "    text = texts[key]\n",
    "    documents.append(text['text'])\n",
    "    links.append(text['link'])\n",
    "    img_files.append(text['img'])"
   ]
  },
  {
   "cell_type": "code",
   "execution_count": 10,
   "metadata": {},
   "outputs": [
    {
     "data": {
      "image/png": "[encoded data removed]",
      "text/plain": [
       "<Figure size 432x288 with 1 Axes>"
      ]
     },
     "metadata": {
      "needs_background": "light"
     },
     "output_type": "display_data"
    }
   ],
   "source": [
    "lengths = [len(x) for x in documents]\n",
    "# histogram of lengths\n",
    "import matplotlib.pyplot as plt\n",
    "plt.hist(lengths, bins=100)\n",
    "plt.show()\n"
   ]
  },
  {
   "cell_type": "code",
   "execution_count": 11,
   "metadata": {},
   "outputs": [],
   "source": [
    "if 1 == 0:\n",
    "    # THIS LINE COSTS MONEY TO RUN\n",
    "    embeddings = get_embeddings(documents, \"doc\", model=\"curie\")"
   ]
  },
  {
   "cell_type": "code",
   "execution_count": 12,
   "metadata": {},
   "outputs": [],
   "source": [
    "# save embeddings to save_dir/embeddings.npy\n",
    "np.save(os.path.join(save_dir, \"embeddings.npy\"), embeddings)\n",
    "\n",
    "# save links to save_dir/links.npy\n",
    "np.save(os.path.join(save_dir, \"links.npy\"), links)\n",
    "\n",
    "# save documents to save_dir/documents.npy\n",
    "np.save(os.path.join(save_dir, \"documents.npy\"), documents)\n",
    "\n",
    "# save img_files to save_dir/img_files.npy\n",
    "np.save(os.path.join(save_dir, \"img_files.npy\"), img_files)\n"
   ]
  },
  {
   "cell_type": "code",
   "execution_count": 8,
   "metadata": {},
   "outputs": [
    {
     "name": "stdout",
     "output_type": "stream",
     "text": [
      "356\n",
      "356\n",
      "356\n"
     ]
    }
   ],
   "source": [
    "print(len(links))\n",
    "print(len(documents))\n",
    "print(len(img_files))"
   ]
  }
 ],
 "metadata": {
  "interpreter": {
   "hash": "7695cc187696ff247200b960f75fa081789a85d99b43380ee59841795bcea6a6"
  },
  "kernelspec": {
   "display_name": "Python 3.9.10 ('env': venv)",
   "language": "python",
   "name": "python3"
  },
  "language_info": {
   "codemirror_mode": {
    "name": "ipython",
    "version": 3
   },
   "file_extension": ".py",
   "mimetype": "text/x-python",
   "name": "python",
   "nbconvert_exporter": "python",
   "pygments_lexer": "ipython3",
   "version": "3.9.10"
  },
  "orig_nbformat": 4
 },
 "nbformat": 4,
 "nbformat_minor": 2
}
